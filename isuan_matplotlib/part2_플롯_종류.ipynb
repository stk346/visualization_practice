{
 "cells": [
  {
   "cell_type": "code",
   "execution_count": 6,
   "metadata": {},
   "outputs": [
    {
     "data": {
      "text/plain": [
       "'3.4.3'"
      ]
     },
     "execution_count": 6,
     "metadata": {},
     "output_type": "execute_result"
    }
   ],
   "source": [
    "import matplotlib as mpl\n",
    "import matplotlib.pyplot as plt\n",
    "import numpy as np\n",
    "import pandas as pd\n",
    "mpl.__version__"
   ]
  },
  {
   "cell_type": "markdown",
   "metadata": {},
   "source": [
    "## 플롯 종류"
   ]
  },
  {
   "cell_type": "markdown",
   "metadata": {},
   "source": [
    "### 막대플롯(Barplot)"
   ]
  },
  {
   "cell_type": "code",
   "execution_count": 8,
   "metadata": {},
   "outputs": [
    {
     "data": {
      "text/plain": [
       "array([0, 1, 2, 3, 4])"
      ]
     },
     "execution_count": 8,
     "metadata": {},
     "output_type": "execute_result"
    }
   ],
   "source": [
    "np.arange(len(names))"
   ]
  },
  {
   "cell_type": "code",
   "execution_count": 7,
   "metadata": {},
   "outputs": [
    {
     "data": {
      "text/plain": [
       "Text(0.5, 0, 'group')"
      ]
     },
     "execution_count": 7,
     "metadata": {},
     "output_type": "execute_result"
    },
    {
     "data": {
      "image/png": "[encoded data removed]",
      "text/plain": [
       "<Figure size 432x288 with 1 Axes>"
      ]
     },
     "metadata": {
      "needs_background": "light"
     },
     "output_type": "display_data"
    }
   ],
   "source": [
    "height = [np.random.randn() * i for i in range(1, 6)]\n",
    "names = ['A', 'B', 'C', 'D', 'E']\n",
    "y_pos = np.arange(len(names))\n",
    "plt.bar(y_pos, height)\n",
    "plt.xticks(y_pos, names, fontweight='bold')\n",
    "plt.xlabel('group')"
   ]
  },
  {
   "cell_type": "code",
   "execution_count": 10,
   "metadata": {},
   "outputs": [
    {
     "data": {
      "text/plain": [
       "Text(0.5, 0, 'group')"
      ]
     },
     "execution_count": 10,
     "metadata": {},
     "output_type": "execute_result"
    },
    {
     "data": {
      "image/png": "[encoded data removed]",
      "text/plain": [
       "<Figure size 432x288 with 1 Axes>"
      ]
     },
     "metadata": {
      "needs_background": "light"
     },
     "output_type": "display_data"
    }
   ],
   "source": [
    "height = [np.random.randn() * i for i in range(1, 6)]\n",
    "names = ['A', 'B', 'C', 'D', 'E']\n",
    "y_pos = np.arange(len(names))\n",
    "\n",
    "# barh로 바뀌었음\n",
    "plt.barh(y_pos, height)\n",
    "# x틱이 아니라 y틱에 정보를 줘야함\n",
    "plt.yticks(y_pos, names, fontweight='bold')\n",
    "plt.xlabel('group')"
   ]
  },
  {
   "cell_type": "code",
   "execution_count": 14,
   "metadata": {},
   "outputs": [
    {
     "data": {
      "image/png": "[encoded data removed]",
      "text/plain": [
       "<Figure size 432x288 with 1 Axes>"
      ]
     },
     "metadata": {
      "needs_background": "light"
     },
     "output_type": "display_data"
    }
   ],
   "source": [
    "bars1 = [12, 28, 1, 8, 22]\n",
    "bars2 = [28, 7, 16, 4, 10]\n",
    "bars3 = [25, 3, 23, 25, 17]\n",
    "bars = np.add(bars1, bars2).tolist()\n",
    "\n",
    "r = [0, 1, 2, 3, 4]\n",
    "names = ['A', 'B', 'C', 'D', 'E']\n",
    "\n",
    "plt.bar(r, bars1, color='royalblue', edgecolor='white')\n",
    "plt.bar(r, bars2, bottom=bars1, color='skyblue', edgecolor='white')\n",
    "plt.bar(r, bars3, bottom=bars2, color='lightblue', edgecolor='white')\n",
    "\n",
    "plt.xlabel('group', fontweight='bold')\n",
    "plt.xticks(r, names, fontweight='bold');"
   ]
  },
  {
   "cell_type": "code",
   "execution_count": 23,
   "metadata": {},
   "outputs": [
    {
     "data": {
      "image/png": "[encoded data removed]",
      "text/plain": [
       "<Figure size 432x288 with 1 Axes>"
      ]
     },
     "metadata": {
      "needs_background": "light"
     },
     "output_type": "display_data"
    }
   ],
   "source": [
    "bar_width = 0.25\n",
    "\n",
    "bars1 = [14, 17, 9, 8, 7]\n",
    "bars2 = [14, 7, 12, 4, 10]\n",
    "bars3 = [21, 4, 24, 14, 17]\n",
    "\n",
    "r = [0, 1, 2, 3, 4]\n",
    "r1 = np.arange(len(bars1))\n",
    "r2 = [x + bar_width for x in r1]\n",
    "r3 = [x + bar_width for x in r2]\n",
    "names = ['A', 'B', 'C', 'D', 'E']\n",
    "\n",
    "plt.bar(r1, bars1, color='royalblue', width=bar_width, edgecolor='white', label='r1')\n",
    "plt.bar(r2, bars2, color='skyblue', width=bar_width, edgecolor='white', label='r2')\n",
    "plt.bar(r3, bars3, color='lightblue', width=bar_width, edgecolor='white', label='r3')\n",
    "\n",
    "plt.xlabel('group', fontweight='bold')\n",
    "plt.xticks([r + bar_width for r in range(len(bars1))], ['A', 'B', 'C', 'D', 'E'])\n",
    "plt.legend();"
   ]
  },
  {
   "cell_type": "code",
   "execution_count": null,
   "metadata": {},
   "outputs": [],
   "source": []
  }
 ],
 "metadata": {
  "interpreter": {
   "hash": "cd76bd33397034e516dadf14e8d6d1e198d372403247a202e6f8414a37c5d387"
  },
  "kernelspec": {
   "display_name": "Python 3.8.13 ('scraping')",
   "language": "python",
   "name": "python3"
  },
  "language_info": {
   "codemirror_mode": {
    "name": "ipython",
    "version": 3
   },
   "file_extension": ".py",
   "mimetype": "text/x-python",
   "name": "python",
   "nbconvert_exporter": "python",
   "pygments_lexer": "ipython3",
   "version": "3.9.7"
  },
  "orig_nbformat": 4
 },
 "nbformat": 4,
 "nbformat_minor": 2
}
